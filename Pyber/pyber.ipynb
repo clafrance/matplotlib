{
 "cells": [
  {
   "cell_type": "markdown",
   "metadata": {},
   "source": [
    "## Analysis Ride Sharing Data"
   ]
  },
  {
   "cell_type": "markdown",
   "metadata": {},
   "source": [
    "### A bubble chart that shows the relationship between the following variables\n",
    "* Average Fare per City\n",
    "* Total Number of Rides per City\n",
    "* Total Number of Driver per City\n",
    "* City Type "
   ]
  },
  {
   "cell_type": "code",
   "execution_count": 1,
   "metadata": {},
   "outputs": [],
   "source": [
    "%matplotlib notebook\n",
    "%matplotlib inline"
   ]
  },
  {
   "cell_type": "code",
   "execution_count": 2,
   "metadata": {},
   "outputs": [],
   "source": [
    "# Dependencies and Setup\n",
    "import matplotlib.pyplot as plt\n",
    "import pandas as pd\n",
    "import numpy as np"
   ]
  },
  {
   "cell_type": "code",
   "execution_count": 3,
   "metadata": {},
   "outputs": [
    {
     "data": {
      "text/html": [
       "<div>\n",
       "<style scoped>\n",
       "    .dataframe tbody tr th:only-of-type {\n",
       "        vertical-align: middle;\n",
       "    }\n",
       "\n",
       "    .dataframe tbody tr th {\n",
       "        vertical-align: top;\n",
       "    }\n",
       "\n",
       "    .dataframe thead th {\n",
       "        text-align: right;\n",
       "    }\n",
       "</style>\n",
       "<table border=\"1\" class=\"dataframe\">\n",
       "  <thead>\n",
       "    <tr style=\"text-align: right;\">\n",
       "      <th></th>\n",
       "      <th>city</th>\n",
       "      <th>driver_count</th>\n",
       "      <th>type</th>\n",
       "    </tr>\n",
       "  </thead>\n",
       "  <tbody>\n",
       "    <tr>\n",
       "      <th>0</th>\n",
       "      <td>Amandaburgh</td>\n",
       "      <td>12</td>\n",
       "      <td>Urban</td>\n",
       "    </tr>\n",
       "    <tr>\n",
       "      <th>1</th>\n",
       "      <td>Barajasview</td>\n",
       "      <td>26</td>\n",
       "      <td>Urban</td>\n",
       "    </tr>\n",
       "    <tr>\n",
       "      <th>2</th>\n",
       "      <td>Barronchester</td>\n",
       "      <td>11</td>\n",
       "      <td>Suburban</td>\n",
       "    </tr>\n",
       "    <tr>\n",
       "      <th>3</th>\n",
       "      <td>Bethanyland</td>\n",
       "      <td>22</td>\n",
       "      <td>Suburban</td>\n",
       "    </tr>\n",
       "    <tr>\n",
       "      <th>4</th>\n",
       "      <td>Bradshawfurt</td>\n",
       "      <td>7</td>\n",
       "      <td>Rural</td>\n",
       "    </tr>\n",
       "  </tbody>\n",
       "</table>\n",
       "</div>"
      ],
      "text/plain": [
       "            city  driver_count      type\n",
       "0    Amandaburgh            12     Urban\n",
       "1    Barajasview            26     Urban\n",
       "2  Barronchester            11  Suburban\n",
       "3    Bethanyland            22  Suburban\n",
       "4   Bradshawfurt             7     Rural"
      ]
     },
     "execution_count": 3,
     "metadata": {},
     "output_type": "execute_result"
    }
   ],
   "source": [
    "# Read the city data\n",
    "city_file = \"data/city_data.csv\"\n",
    "cities_df = pd.read_csv(city_file)\n",
    "cities_df.sort_values(['city'], inplace=True)\n",
    "cities_df.reset_index(drop=True, inplace=True)\n",
    "cities_df.head()"
   ]
  },
  {
   "cell_type": "code",
   "execution_count": 4,
   "metadata": {},
   "outputs": [
    {
     "data": {
      "text/html": [
       "<div>\n",
       "<style scoped>\n",
       "    .dataframe tbody tr th:only-of-type {\n",
       "        vertical-align: middle;\n",
       "    }\n",
       "\n",
       "    .dataframe tbody tr th {\n",
       "        vertical-align: top;\n",
       "    }\n",
       "\n",
       "    .dataframe thead th {\n",
       "        text-align: right;\n",
       "    }\n",
       "</style>\n",
       "<table border=\"1\" class=\"dataframe\">\n",
       "  <thead>\n",
       "    <tr style=\"text-align: right;\">\n",
       "      <th></th>\n",
       "      <th>city</th>\n",
       "      <th>date</th>\n",
       "      <th>fare</th>\n",
       "      <th>ride_id</th>\n",
       "    </tr>\n",
       "  </thead>\n",
       "  <tbody>\n",
       "    <tr>\n",
       "      <th>0</th>\n",
       "      <td>Amandaburgh</td>\n",
       "      <td>2018-04-24 08:02:27</td>\n",
       "      <td>14.55</td>\n",
       "      <td>7836117055007</td>\n",
       "    </tr>\n",
       "    <tr>\n",
       "      <th>1</th>\n",
       "      <td>Amandaburgh</td>\n",
       "      <td>2018-02-10 20:42:46</td>\n",
       "      <td>36.17</td>\n",
       "      <td>6455620849753</td>\n",
       "    </tr>\n",
       "    <tr>\n",
       "      <th>2</th>\n",
       "      <td>Amandaburgh</td>\n",
       "      <td>2018-02-24 23:10:49</td>\n",
       "      <td>43.66</td>\n",
       "      <td>6573820412437</td>\n",
       "    </tr>\n",
       "    <tr>\n",
       "      <th>3</th>\n",
       "      <td>Amandaburgh</td>\n",
       "      <td>2018-03-05 02:15:38</td>\n",
       "      <td>26.28</td>\n",
       "      <td>906850928986</td>\n",
       "    </tr>\n",
       "    <tr>\n",
       "      <th>4</th>\n",
       "      <td>Amandaburgh</td>\n",
       "      <td>2018-03-07 02:26:33</td>\n",
       "      <td>18.76</td>\n",
       "      <td>3419454549176</td>\n",
       "    </tr>\n",
       "  </tbody>\n",
       "</table>\n",
       "</div>"
      ],
      "text/plain": [
       "          city                 date   fare        ride_id\n",
       "0  Amandaburgh  2018-04-24 08:02:27  14.55  7836117055007\n",
       "1  Amandaburgh  2018-02-10 20:42:46  36.17  6455620849753\n",
       "2  Amandaburgh  2018-02-24 23:10:49  43.66  6573820412437\n",
       "3  Amandaburgh  2018-03-05 02:15:38  26.28   906850928986\n",
       "4  Amandaburgh  2018-03-07 02:26:33  18.76  3419454549176"
      ]
     },
     "execution_count": 4,
     "metadata": {},
     "output_type": "execute_result"
    }
   ],
   "source": [
    "# Read the Ride and Data\n",
    "ride_file = \"data/ride_data.csv\"\n",
    "rides_df = pd.read_csv(ride_file)\n",
    "rides_df.sort_values(['city'], inplace=True)\n",
    "rides_df.reset_index(drop=True, inplace=True)\n",
    "rides_df.head()"
   ]
  },
  {
   "cell_type": "code",
   "execution_count": 5,
   "metadata": {},
   "outputs": [
    {
     "data": {
      "text/plain": [
       "True"
      ]
     },
     "execution_count": 5,
     "metadata": {},
     "output_type": "execute_result"
    }
   ],
   "source": [
    "# Verify the cities in the rides_df and cities_df are consistant\n",
    "list(cities_df.loc[:, \"city\"]) == list(rides_df[\"city\"].unique())"
   ]
  },
  {
   "cell_type": "code",
   "execution_count": 6,
   "metadata": {
    "scrolled": true
   },
   "outputs": [],
   "source": [
    "# # Verify the cities in the rides_df and cities_df are consistant\n",
    "# cities_from_cities = list(cities_df.loc[:, \"city\"])\n",
    "# cities_from_rides = list(rides_df[\"city\"].unique())\n",
    "# cities_from_cities == cities_from_rides"
   ]
  },
  {
   "cell_type": "code",
   "execution_count": 7,
   "metadata": {},
   "outputs": [
    {
     "data": {
      "text/html": [
       "<div>\n",
       "<style scoped>\n",
       "    .dataframe tbody tr th:only-of-type {\n",
       "        vertical-align: middle;\n",
       "    }\n",
       "\n",
       "    .dataframe tbody tr th {\n",
       "        vertical-align: top;\n",
       "    }\n",
       "\n",
       "    .dataframe thead th {\n",
       "        text-align: right;\n",
       "    }\n",
       "</style>\n",
       "<table border=\"1\" class=\"dataframe\">\n",
       "  <thead>\n",
       "    <tr style=\"text-align: right;\">\n",
       "      <th></th>\n",
       "      <th>city</th>\n",
       "      <th>date</th>\n",
       "      <th>fare</th>\n",
       "      <th>ride_id</th>\n",
       "      <th>driver_count</th>\n",
       "      <th>type</th>\n",
       "    </tr>\n",
       "  </thead>\n",
       "  <tbody>\n",
       "    <tr>\n",
       "      <th>0</th>\n",
       "      <td>Amandaburgh</td>\n",
       "      <td>2018-04-24 08:02:27</td>\n",
       "      <td>14.55</td>\n",
       "      <td>7836117055007</td>\n",
       "      <td>12</td>\n",
       "      <td>Urban</td>\n",
       "    </tr>\n",
       "    <tr>\n",
       "      <th>1</th>\n",
       "      <td>Amandaburgh</td>\n",
       "      <td>2018-02-10 20:42:46</td>\n",
       "      <td>36.17</td>\n",
       "      <td>6455620849753</td>\n",
       "      <td>12</td>\n",
       "      <td>Urban</td>\n",
       "    </tr>\n",
       "    <tr>\n",
       "      <th>2</th>\n",
       "      <td>Amandaburgh</td>\n",
       "      <td>2018-02-24 23:10:49</td>\n",
       "      <td>43.66</td>\n",
       "      <td>6573820412437</td>\n",
       "      <td>12</td>\n",
       "      <td>Urban</td>\n",
       "    </tr>\n",
       "    <tr>\n",
       "      <th>3</th>\n",
       "      <td>Amandaburgh</td>\n",
       "      <td>2018-03-05 02:15:38</td>\n",
       "      <td>26.28</td>\n",
       "      <td>906850928986</td>\n",
       "      <td>12</td>\n",
       "      <td>Urban</td>\n",
       "    </tr>\n",
       "    <tr>\n",
       "      <th>4</th>\n",
       "      <td>Amandaburgh</td>\n",
       "      <td>2018-03-07 02:26:33</td>\n",
       "      <td>18.76</td>\n",
       "      <td>3419454549176</td>\n",
       "      <td>12</td>\n",
       "      <td>Urban</td>\n",
       "    </tr>\n",
       "  </tbody>\n",
       "</table>\n",
       "</div>"
      ],
      "text/plain": [
       "          city                 date   fare        ride_id  driver_count   type\n",
       "0  Amandaburgh  2018-04-24 08:02:27  14.55  7836117055007            12  Urban\n",
       "1  Amandaburgh  2018-02-10 20:42:46  36.17  6455620849753            12  Urban\n",
       "2  Amandaburgh  2018-02-24 23:10:49  43.66  6573820412437            12  Urban\n",
       "3  Amandaburgh  2018-03-05 02:15:38  26.28   906850928986            12  Urban\n",
       "4  Amandaburgh  2018-03-07 02:26:33  18.76  3419454549176            12  Urban"
      ]
     },
     "execution_count": 7,
     "metadata": {},
     "output_type": "execute_result"
    }
   ],
   "source": [
    "# Combine the data into a single dataset\n",
    "cities_rides_df = pd.merge(rides_df, cities_df, on=\"city\")\n",
    "cities_rides_df.head()"
   ]
  },
  {
   "cell_type": "code",
   "execution_count": 8,
   "metadata": {},
   "outputs": [
    {
     "data": {
      "text/plain": [
       "['Rural', 'Suburban', 'Urban']"
      ]
     },
     "execution_count": 8,
     "metadata": {},
     "output_type": "execute_result"
    }
   ],
   "source": [
    "# Get the city types\n",
    "city_types = list(cities_df[\"type\"].unique())\n",
    "city_types = [city_types[2], city_types[1], city_types[0]]\n",
    "city_types"
   ]
  },
  {
   "cell_type": "markdown",
   "metadata": {},
   "source": [
    "## Bubble Plot of Ride Sharing Data"
   ]
  },
  {
   "cell_type": "code",
   "execution_count": 9,
   "metadata": {},
   "outputs": [
    {
     "data": {
      "text/plain": [
       "(0, 41)"
      ]
     },
     "execution_count": 9,
     "metadata": {},
     "output_type": "execute_result"
    }
   ],
   "source": [
    "# Find min and max ride counts, use as x limit\n",
    "cities_rides_grouped = cities_rides_df.groupby(['type', 'city'])\n",
    "number_of_rides = cities_rides_grouped['city'].count()\n",
    "x_min = int(np.floor(number_of_rides.min())) - 3\n",
    "x_max = int(np.ceil(number_of_rides.max())) + 2\n",
    "x_min, x_max"
   ]
  },
  {
   "cell_type": "code",
   "execution_count": 10,
   "metadata": {},
   "outputs": [
    {
     "data": {
      "text/plain": [
       "(19, 45)"
      ]
     },
     "execution_count": 10,
     "metadata": {},
     "output_type": "execute_result"
    }
   ],
   "source": [
    "# Find min and max average fares, use as y limit\n",
    "average_fares = cities_rides_grouped['fare'].mean()\n",
    "y_min = int(np.floor(average_fares.min())) - 1\n",
    "y_max = int(np.ceil(average_fares.max())) + 1\n",
    "y_min, y_max"
   ]
  },
  {
   "cell_type": "code",
   "execution_count": 11,
   "metadata": {},
   "outputs": [
    {
     "data": {
      "image/png": "[encoded data removed]",
      "text/plain": [
       "<Figure size 432x288 with 1 Axes>"
      ]
     },
     "metadata": {},
     "output_type": "display_data"
    }
   ],
   "source": [
    "# Set x limit, y limit\n",
    "plt.xlim(x_min, x_max)\n",
    "plt.ylim(y_min, y_max)\n",
    "\n",
    "# Set title, xlabel, y label, and grid\n",
    "plt.title(\"Pyber Ride Sharing data (2016)\")\n",
    "plt.xlabel(\"Total Number of Rides (Per City)\")\n",
    "plt.ylabel(\"Average Fare ($)\")\n",
    "plt.grid(True)\n",
    "\n",
    "# Plot the scatter plot\n",
    "for city_type in city_types:\n",
    "    if city_type == \"Rural\":\n",
    "        color = \"Gold\"\n",
    "    elif city_type == 'Suburban':\n",
    "        color = 'lightskyblue'\n",
    "    else:\n",
    "        color = 'coral'\n",
    "    \n",
    "    rides_grouped_by_city = cities_rides_df.loc[cities_rides_df['type'] == city_type].groupby('city')\n",
    "    \n",
    "    number_of_rides_by_city = rides_grouped_by_city['fare'].count()\n",
    "    average_fare_by_city = rides_grouped_by_city[\"fare\"].mean()\n",
    "    drivers_count_by_city = (rides_grouped_by_city['driver_count'].mean()) * 10\n",
    "    \n",
    "    # Plot the chart\n",
    "    plt.scatter(number_of_rides_by_city, average_fare_by_city, marker=\"o\", facecolors=color, edgecolors=\"black\",\n",
    "            s=drivers_count_by_city, alpha=0.75, label=type)\n",
    "\n",
    "# Create dummy objects for legend\n",
    "h1 = plt.scatter([0], [0], marker=\"o\", facecolors=\"gold\", edgecolors=\"black\", alpha=0.75, label=\"Rural\")\n",
    "h2 = plt.scatter([0], [0], marker=\"o\", facecolors=\"lightskyblue\", edgecolors=\"black\", alpha=0.75, label=\"Suburban\")\n",
    "h3 = plt.scatter([0], [0], marker=\"o\", facecolors=\"coral\", edgecolors=\"black\", alpha=0.85, label=\"Urban\")\n",
    "\n",
    "# Set legend\n",
    "legend = plt.legend(handles=[h1, h2, h3], markerscale=1.5, title=\"City Types\", loc=\"best\", fontsize='small', fancybox=True)\n",
    "\n",
    "# Incorporate a text label regarding circle size\n",
    "plt.figtext(0.93, 0.60,\"Note: \\nCircle size correlates with driver count per city.\", wrap=False,\n",
    "            horizontalalignment='left', fontsize=12)\n",
    "\n",
    "plt.savefig(\"analysis/pyber.png\", bbox_inches='tight')\n",
    "plt.show()   "
   ]
  },
  {
   "cell_type": "code",
   "execution_count": null,
   "metadata": {},
   "outputs": [],
   "source": []
  },
  {
   "cell_type": "markdown",
   "metadata": {},
   "source": [
    "### Pie charts that shows the relationship between the following variables\n",
    "\n",
    "* % of Total Fares by City Type\n",
    "* % of Total Rides by City Type\n",
    "* % of Total Drivers by City Type"
   ]
  },
  {
   "cell_type": "code",
   "execution_count": null,
   "metadata": {},
   "outputs": [],
   "source": [
    "rides_by_city_type = cities_rides_df.groupby('type')\n",
    "drivers_by_city_type = cities_df.groupby('type')"
   ]
  },
  {
   "cell_type": "code",
   "execution_count": null,
   "metadata": {},
   "outputs": [],
   "source": [
    "# Setup labels, colors, and explode for the charts\n",
    "labels = city_types\n",
    "colors = ['gold', 'lightskyblue', 'lightcoral']\n",
    "explode = (0, 0, 0.1)"
   ]
  },
  {
   "cell_type": "code",
   "execution_count": 12,
   "metadata": {},
   "outputs": [
    {
     "ename": "NameError",
     "evalue": "name 'rides_by_city_type' is not defined",
     "output_type": "error",
     "traceback": [
      "\u001b[0;31m---------------------------------------------------------------------------\u001b[0m",
      "\u001b[0;31mNameError\u001b[0m                                 Traceback (most recent call last)",
      "\u001b[0;32m<ipython-input-12-9e90daded163>\u001b[0m in \u001b[0;36m<module>\u001b[0;34m()\u001b[0m\n\u001b[1;32m      8\u001b[0m     \u001b[0;32melif\u001b[0m \u001b[0mtopic\u001b[0m \u001b[0;34m==\u001b[0m \u001b[0;34m'Fares'\u001b[0m\u001b[0;34m:\u001b[0m\u001b[0;34m\u001b[0m\u001b[0;34m\u001b[0m\u001b[0m\n\u001b[1;32m      9\u001b[0m         \u001b[0;31m# Calculate total fares by city type\u001b[0m\u001b[0;34m\u001b[0m\u001b[0;34m\u001b[0m\u001b[0;34m\u001b[0m\u001b[0m\n\u001b[0;32m---> 10\u001b[0;31m         \u001b[0mdata\u001b[0m \u001b[0;34m=\u001b[0m \u001b[0mrides_by_city_type\u001b[0m\u001b[0;34m[\u001b[0m\u001b[0;34m'fare'\u001b[0m\u001b[0;34m]\u001b[0m\u001b[0;34m.\u001b[0m\u001b[0msum\u001b[0m\u001b[0;34m(\u001b[0m\u001b[0;34m)\u001b[0m\u001b[0;34m\u001b[0m\u001b[0;34m\u001b[0m\u001b[0m\n\u001b[0m\u001b[1;32m     11\u001b[0m     \u001b[0;32melif\u001b[0m \u001b[0mtopic\u001b[0m \u001b[0;34m==\u001b[0m \u001b[0;34m'Rides'\u001b[0m\u001b[0;34m:\u001b[0m\u001b[0;34m\u001b[0m\u001b[0;34m\u001b[0m\u001b[0m\n\u001b[1;32m     12\u001b[0m         \u001b[0;31m# Calculate Rides per city type\u001b[0m\u001b[0;34m\u001b[0m\u001b[0;34m\u001b[0m\u001b[0;34m\u001b[0m\u001b[0m\n",
      "\u001b[0;31mNameError\u001b[0m: name 'rides_by_city_type' is not defined"
     ]
    }
   ],
   "source": [
    "# Use for loop to plot the pie charts\n",
    "topics = ['Fares', 'Rides', 'Drivers']\n",
    "\n",
    "for topic in topics:\n",
    "    if topic == 'Drivers':\n",
    "        # Calculate total Drivers by city type\n",
    "        data = drivers_by_city_type['driver_count'].sum()\n",
    "    elif topic == 'Fares':\n",
    "        # Calculate total fares by city type\n",
    "        data = rides_by_city_type['fare'].sum()\n",
    "    elif topic == 'Rides':\n",
    "        # Calculate Rides per city type\n",
    "        data = rides_by_city_type['ride_id'].count()\n",
    "    title = \"% of Total \" + topic + \" by City Type\"\n",
    "    \n",
    "    fig = plt.figure()\n",
    "    ax = fig.add_subplot(1,1,1)\n",
    "    \n",
    "    # Plot the pie chart\n",
    "    ax.pie(data, labels=labels, colors=colors, startangle=150, autopct=\"%1.1f%%\", shadow=True, explode=explode)\n",
    "    \n",
    "    # Title for the chart\n",
    "    ax.text(0, 1.3, title, wrap=True, horizontalalignment='center', fontsize=13)\n",
    "    \n",
    "    # Save to file\n",
    "    filename = \"analysis/\" + topic.lower() + \".png\"\n",
    "    plt.savefig(filename)\n",
    "    plt.show()\n",
    "   "
   ]
  },
  {
   "cell_type": "code",
   "execution_count": null,
   "metadata": {},
   "outputs": [],
   "source": []
  }
 ],
 "metadata": {
  "anaconda-cloud": {},
  "kernelspec": {
   "display_name": "Python 3",
   "language": "python",
   "name": "python3"
  },
  "language_info": {
   "codemirror_mode": {
    "name": "ipython",
    "version": 3
   },
   "file_extension": ".py",
   "mimetype": "text/x-python",
   "name": "python",
   "nbconvert_exporter": "python",
   "pygments_lexer": "ipython3",
   "version": "3.6.7"
  }
 },
 "nbformat": 4,
 "nbformat_minor": 2
}
